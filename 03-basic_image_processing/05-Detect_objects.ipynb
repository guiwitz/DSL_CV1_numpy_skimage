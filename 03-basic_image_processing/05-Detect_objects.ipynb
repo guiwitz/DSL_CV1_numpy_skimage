{
 "cells": [
  {
   "cell_type": "markdown",
   "metadata": {
    "id": "_abtXE7KBXxp"
   },
   "source": [
    "# Detecting and measuring objects"
   ]
  },
  {
   "cell_type": "markdown",
   "metadata": {
    "id": "C_ueqQujBXxv"
   },
   "source": [
    "Once you have a masks of an image, you have two steps remaining for a classical analysis workflow. First, you need to actually find objects in your image. At the moment for example all nuclei in our mask have the same value, so we can't distinguish them. The goal is therefore to assign to the pixels of each object (nucleus) a different value: this is called connected component analysis or labeling. Second, once we have these labels, we can finally measure our objects. ```scikit-image``` offers a hand way to do that with a simple function. "
   ]
  },
  {
   "cell_type": "code",
   "execution_count": 1,
   "metadata": {
    "executionInfo": {
     "elapsed": 1741,
     "status": "ok",
     "timestamp": 1616250325262,
     "user": {
      "displayName": "Guillaume Witz",
      "photoUrl": "https://lh3.googleusercontent.com/a-/AOh14GgT0K2JVYzEsjzsS5nhkUVjUrSIJ5jHzXnBoYrmVf8=s64",
      "userId": "16033870147214403532"
     },
     "user_tz": -60
    },
    "id": "nbvEvkGJBXxw"
   },
   "outputs": [],
   "source": [
    "import numpy as np\n",
    "import pandas as pd\n",
    "import matplotlib.pyplot as plt\n",
    "from microfilm.microplot import microshow\n",
    "import skimage\n",
    "import skimage.io\n",
    "import skimage.morphology\n",
    "import scipy.ndimage as ndi"
   ]
  },
  {
   "cell_type": "markdown",
   "metadata": {
    "id": "FdRSQIRyBXxw"
   },
   "source": [
    "## Recreate a mask\n",
    "\n",
    "As a first step, we import again our cells image and create a mask of the nuclei. This just recapitulates what we did in previous chapters:"
   ]
  },
  {
   "cell_type": "code",
   "execution_count": 3,
   "metadata": {
    "executionInfo": {
     "elapsed": 2392,
     "status": "ok",
     "timestamp": 1616250328336,
     "user": {
      "displayName": "Guillaume Witz",
      "photoUrl": "https://lh3.googleusercontent.com/a-/AOh14GgT0K2JVYzEsjzsS5nhkUVjUrSIJ5jHzXnBoYrmVf8=s64",
      "userId": "16033870147214403532"
     },
     "user_tz": -60
    },
    "id": "LRbfIk_ABXxx"
   },
   "outputs": [],
   "source": [
    "image_stack = skimage.io.imread('../data/cellatlas/19838_1252_F8_1.tiff')\n",
    "\n",
    "image_nuclei = image_stack[:,:,2]#blue channel in RGB\n",
    "image_signal = image_stack[:,:,1]#green channel in RGB\n",
    "\n",
    "# filter image\n",
    "image_nuclei = skimage.filters.median(image_nuclei, skimage.morphology.disk(5))\n",
    "\n",
    "# create mask and clean-up\n",
    "mask_nuclei = image_nuclei > skimage.filters.threshold_otsu(image_nuclei)\n",
    "mask_nuclei = skimage.morphology.binary_closing(mask_nuclei, footprint=skimage.morphology.disk(5))\n",
    "mask_nuclei = ndi.binary_fill_holes(mask_nuclei, skimage.morphology.disk(5))"
   ]
  },
  {
   "cell_type": "code",
   "execution_count": 4,
   "metadata": {
    "colab": {
     "base_uri": "https://localhost:8080/",
     "height": 469
    },
    "executionInfo": {
     "elapsed": 1282,
     "status": "ok",
     "timestamp": 1616250334243,
     "user": {
      "displayName": "Guillaume Witz",
      "photoUrl": "https://lh3.googleusercontent.com/a-/AOh14GgT0K2JVYzEsjzsS5nhkUVjUrSIJ5jHzXnBoYrmVf8=s64",
      "userId": "16033870147214403532"
     },
     "user_tz": -60
    },
    "id": "EoPdJBjtBXxx",
    "outputId": "a9a2c84a-9ede-44e4-fc2f-048cccb6fa7a"
   },
   "outputs": [
    {
     "data": {
      "image/png": "[encoded data removed]",
      "text/plain": [
       "<Figure size 360x360 with 1 Axes>"
      ]
     },
     "metadata": {},
     "output_type": "display_data"
    }
   ],
   "source": [
    "microshow(mask_nuclei, fig_scaling=5);"
   ]
  },
  {
   "cell_type": "markdown",
   "metadata": {
    "id": "CJUUfmkuBXxy"
   },
   "source": [
    "## Labelling"
   ]
  },
  {
   "cell_type": "markdown",
   "metadata": {
    "id": "xdVMwT5KBXxz"
   },
   "source": [
    "In order to measure objects in the image separately, we first need to label them individually. For that we can just use the ```skimage.morphology.label()``` function which looks for independent groups of white pixels and assigns them integer numbers. Note that you have the choice of considering that pixels have 4 or 8:"
   ]
  },
  {
   "cell_type": "code",
   "execution_count": 6,
   "metadata": {
    "executionInfo": {
     "elapsed": 581,
     "status": "ok",
     "timestamp": 1616250342558,
     "user": {
      "displayName": "Guillaume Witz",
      "photoUrl": "https://lh3.googleusercontent.com/a-/AOh14GgT0K2JVYzEsjzsS5nhkUVjUrSIJ5jHzXnBoYrmVf8=s64",
      "userId": "16033870147214403532"
     },
     "user_tz": -60
    },
    "id": "LL3aofvKBXxz"
   },
   "outputs": [],
   "source": [
    "my_labels = skimage.morphology.label(mask_nuclei)"
   ]
  },
  {
   "cell_type": "markdown",
   "metadata": {
    "id": "xy2xS0hHBXxz"
   },
   "source": [
    "The label map shows that numbers are assigned from top to bottom in the image:"
   ]
  },
  {
   "cell_type": "code",
   "execution_count": 7,
   "metadata": {
    "colab": {
     "base_uri": "https://localhost:8080/",
     "height": 469
    },
    "executionInfo": {
     "elapsed": 1936,
     "status": "ok",
     "timestamp": 1616250350395,
     "user": {
      "displayName": "Guillaume Witz",
      "photoUrl": "https://lh3.googleusercontent.com/a-/AOh14GgT0K2JVYzEsjzsS5nhkUVjUrSIJ5jHzXnBoYrmVf8=s64",
      "userId": "16033870147214403532"
     },
     "user_tz": -60
    },
    "id": "apyNDDlGBXxz",
    "outputId": "612015ee-1d9f-4a88-f4b3-c48ef5a64085"
   },
   "outputs": [
    {
     "data": {
      "image/png": "[encoded data removed]",
      "text/plain": [
       "<Figure size 216x216 with 1 Axes>"
      ]
     },
     "metadata": {},
     "output_type": "display_data"
    }
   ],
   "source": [
    "microshow(my_labels, cmaps='segmentation');"
   ]
  },
  {
   "cell_type": "markdown",
   "metadata": {
    "id": "0jPSDQ9mBXx0"
   },
   "source": [
    "## Region properties"
   ]
  },
  {
   "cell_type": "markdown",
   "metadata": {
    "id": "RxpTZ7QBBXx0"
   },
   "source": [
    "Now that we have each region labeled with a different number we can use the ```skimage.measure.regionprops_table()``` function, which takes such as label map and analyzes the geometric properties of each region. We have to specify which ```properties``` we want to use. For example the ```area``` and ```labels```:"
   ]
  },
  {
   "cell_type": "code",
   "execution_count": 8,
   "metadata": {
    "executionInfo": {
     "elapsed": 678,
     "status": "ok",
     "timestamp": 1616250356562,
     "user": {
      "displayName": "Guillaume Witz",
      "photoUrl": "https://lh3.googleusercontent.com/a-/AOh14GgT0K2JVYzEsjzsS5nhkUVjUrSIJ5jHzXnBoYrmVf8=s64",
      "userId": "16033870147214403532"
     },
     "user_tz": -60
    },
    "id": "mmpXctCgBXx0"
   },
   "outputs": [],
   "source": [
    "my_regions = skimage.measure.regionprops_table(my_labels, properties=('label','area'))"
   ]
  },
  {
   "cell_type": "markdown",
   "metadata": {
    "id": "lvdTxbDdBXx0"
   },
   "source": [
    "The output is a dictionary of all properties that we asked to get out:"
   ]
  },
  {
   "cell_type": "code",
   "execution_count": 9,
   "metadata": {
    "colab": {
     "base_uri": "https://localhost:8080/"
    },
    "executionInfo": {
     "elapsed": 501,
     "status": "ok",
     "timestamp": 1616250357412,
     "user": {
      "displayName": "Guillaume Witz",
      "photoUrl": "https://lh3.googleusercontent.com/a-/AOh14GgT0K2JVYzEsjzsS5nhkUVjUrSIJ5jHzXnBoYrmVf8=s64",
      "userId": "16033870147214403532"
     },
     "user_tz": -60
    },
    "id": "xAWRDyguBXx1",
    "outputId": "23f38263-755f-4567-ecc8-5ec9003c626b"
   },
   "outputs": [
    {
     "data": {
      "text/plain": [
       "{'label': array([ 1,  2,  3,  4,  5,  6,  7,  8,  9, 10, 11, 12]),\n",
       " 'area': array([ 9304., 14388.,    52., 20816., 28309., 16148., 21329., 34818.,\n",
       "        32314., 34576., 22307., 24143.])}"
      ]
     },
     "execution_count": 9,
     "metadata": {},
     "output_type": "execute_result"
    }
   ],
   "source": [
    "my_regions"
   ]
  },
  {
   "cell_type": "markdown",
   "metadata": {},
   "source": [
    "We have briefly seen dictionaries in the introduction. To recap: they are tables with pairs of key-words and contents, and we can query contents by key-word. For example to get the list of areas, we ask:"
   ]
  },
  {
   "cell_type": "code",
   "execution_count": 10,
   "metadata": {},
   "outputs": [
    {
     "data": {
      "text/plain": [
       "array([ 9304., 14388.,    52., 20816., 28309., 16148., 21329., 34818.,\n",
       "       32314., 34576., 22307., 24143.])"
      ]
     },
     "execution_count": 10,
     "metadata": {},
     "output_type": "execute_result"
    }
   ],
   "source": [
    "my_regions['area']"
   ]
  },
  {
   "cell_type": "markdown",
   "metadata": {
    "id": "7SmPI39ZBXx3"
   },
   "source": [
    "## Recovering image intensity information"
   ]
  },
  {
   "cell_type": "markdown",
   "metadata": {
    "id": "5NKFaWCzBXx3"
   },
   "source": [
    "In what we did above, we only recovered information about our mask. However often we want to obtain information on pixel values of the **original** image. For example, \"what is the average intensity of each nucleus?\"\n",
    "\n",
    "Luckily ```regionprops_table``` allows us to pass as additional argument ```intensity_image``` the image we want to use to quantify intensity. Then we can for example add as property to extract the ```mean_intensity```:"
   ]
  },
  {
   "cell_type": "code",
   "execution_count": 11,
   "metadata": {
    "executionInfo": {
     "elapsed": 502,
     "status": "ok",
     "timestamp": 1616250379810,
     "user": {
      "displayName": "Guillaume Witz",
      "photoUrl": "https://lh3.googleusercontent.com/a-/AOh14GgT0K2JVYzEsjzsS5nhkUVjUrSIJ5jHzXnBoYrmVf8=s64",
      "userId": "16033870147214403532"
     },
     "user_tz": -60
    },
    "id": "SfajCPMvBXx4"
   },
   "outputs": [],
   "source": [
    "my_regions = skimage.measure.regionprops_table(\n",
    "    my_labels,intensity_image=image_signal, properties=('label','area','mean_intensity'))"
   ]
  },
  {
   "cell_type": "markdown",
   "metadata": {
    "id": "YHdAPnsqBXx4"
   },
   "source": [
    "Now we have access to additional parameters. For example the mean_intensity in each nucleus:"
   ]
  },
  {
   "cell_type": "code",
   "execution_count": 12,
   "metadata": {
    "colab": {
     "base_uri": "https://localhost:8080/"
    },
    "executionInfo": {
     "elapsed": 514,
     "status": "ok",
     "timestamp": 1616250382794,
     "user": {
      "displayName": "Guillaume Witz",
      "photoUrl": "https://lh3.googleusercontent.com/a-/AOh14GgT0K2JVYzEsjzsS5nhkUVjUrSIJ5jHzXnBoYrmVf8=s64",
      "userId": "16033870147214403532"
     },
     "user_tz": -60
    },
    "id": "_PuK9oxdBXx4",
    "outputId": "20c037cb-7628-45c8-b41a-ad973d7e634c"
   },
   "outputs": [
    {
     "data": {
      "text/plain": [
       "{'label': array([ 1,  2,  3,  4,  5,  6,  7,  8,  9, 10, 11, 12]),\n",
       " 'area': array([ 9304., 14388.,    52., 20816., 28309., 16148., 21329., 34818.,\n",
       "        32314., 34576., 22307., 24143.]),\n",
       " 'mean_intensity': array([24.8133061 , 39.03287462, 31.88461538, 47.2842525 , 45.06778763,\n",
       "        40.15779044, 50.52252801, 49.44723993, 57.68608034, 55.5311777 ,\n",
       "        47.08172323, 55.98339063])}"
      ]
     },
     "execution_count": 12,
     "metadata": {},
     "output_type": "execute_result"
    }
   ],
   "source": [
    "my_regions"
   ]
  },
  {
   "cell_type": "markdown",
   "metadata": {},
   "source": [
    "Now that we have this information, we can of course, plot it. For example we can produce a histogram of mean nuclei intensities:"
   ]
  },
  {
   "cell_type": "code",
   "execution_count": 13,
   "metadata": {
    "colab": {
     "base_uri": "https://localhost:8080/",
     "height": 265
    },
    "executionInfo": {
     "elapsed": 795,
     "status": "ok",
     "timestamp": 1616250403913,
     "user": {
      "displayName": "Guillaume Witz",
      "photoUrl": "https://lh3.googleusercontent.com/a-/AOh14GgT0K2JVYzEsjzsS5nhkUVjUrSIJ5jHzXnBoYrmVf8=s64",
      "userId": "16033870147214403532"
     },
     "user_tz": -60
    },
    "id": "sWIsqx_4BXx5",
    "outputId": "b1d01701-4ac3-4c7e-e2a2-3e6a86624e7f"
   },
   "outputs": [
    {
     "data": {
      "image/png": "[encoded data removed]",
      "text/plain": [
       "<Figure size 640x480 with 1 Axes>"
      ]
     },
     "metadata": {},
     "output_type": "display_data"
    }
   ],
   "source": [
    "plt.hist(my_regions['mean_intensity']);"
   ]
  },
  {
   "cell_type": "markdown",
   "metadata": {
    "id": "ctIzlnC7BXx9"
   },
   "source": [
    "## Filtering information\n",
    "\n",
    "Obviously, we had some \"bad segmentations\", i.e. some fragments remaining from the processing that are not actual nuclei. We can easily filter those out for example based on size using Numpy logical indexing:"
   ]
  },
  {
   "cell_type": "code",
   "execution_count": 14,
   "metadata": {},
   "outputs": [
    {
     "data": {
      "text/plain": [
       "array([ 9304., 14388.,    52., 20816., 28309., 16148., 21329., 34818.,\n",
       "       32314., 34576., 22307., 24143.])"
      ]
     },
     "execution_count": 14,
     "metadata": {},
     "output_type": "execute_result"
    }
   ],
   "source": [
    "my_regions['area']"
   ]
  },
  {
   "cell_type": "markdown",
   "metadata": {},
   "source": [
    "We create a logical array by setting a condition on one dictionary entry:"
   ]
  },
  {
   "cell_type": "code",
   "execution_count": 16,
   "metadata": {},
   "outputs": [
    {
     "data": {
      "text/plain": [
       "array([ True,  True, False,  True,  True,  True,  True,  True,  True,\n",
       "        True,  True,  True])"
      ]
     },
     "execution_count": 16,
     "metadata": {},
     "output_type": "execute_result"
    }
   ],
   "source": [
    "selected = my_regions['area'] > 100\n",
    "selected"
   ]
  },
  {
   "cell_type": "markdown",
   "metadata": {},
   "source": [
    "And then use it for logical indexing:"
   ]
  },
  {
   "cell_type": "code",
   "execution_count": 17,
   "metadata": {},
   "outputs": [
    {
     "data": {
      "text/plain": [
       "array([24.8133061 , 39.03287462, 47.2842525 , 45.06778763, 40.15779044,\n",
       "       50.52252801, 49.44723993, 57.68608034, 55.5311777 , 47.08172323,\n",
       "       55.98339063])"
      ]
     },
     "execution_count": 17,
     "metadata": {},
     "output_type": "execute_result"
    }
   ],
   "source": [
    "my_regions['mean_intensity'][selected]"
   ]
  },
  {
   "cell_type": "markdown",
   "metadata": {},
   "source": [
    "## Other types of information\n",
    "\n",
    "Beyond geometric and intensity information, regions props also allows us to recover image information. For example:"
   ]
  },
  {
   "cell_type": "code",
   "execution_count": 18,
   "metadata": {},
   "outputs": [],
   "source": [
    "my_regions2 = skimage.measure.regionprops_table(\n",
    "    my_labels,intensity_image=image_signal, properties=('label','area','image_intensity'))"
   ]
  },
  {
   "cell_type": "code",
   "execution_count": 19,
   "metadata": {},
   "outputs": [
    {
     "data": {
      "image/png": "[encoded data removed]",
      "text/plain": [
       "<Figure size 122.788x216 with 1 Axes>"
      ]
     },
     "metadata": {},
     "output_type": "display_data"
    }
   ],
   "source": [
    "microshow(my_regions2['image_intensity'][10]);"
   ]
  },
  {
   "cell_type": "markdown",
   "metadata": {},
   "source": [
    "Here via ```image-intensity``` we can recover just crops of the intensity image corresponding to each label. We could also recover the mask, convex boundaries etc."
   ]
  },
  {
   "cell_type": "markdown",
   "metadata": {},
   "source": [
    "## Exercise\n",
    "\n",
    "Using the plant image ```IMG_6499.jpg```:\n",
    "1. Keep only the green channel\n",
    "2. Filter it with a gaussian with ```sigma = 20```\n",
    "3. Create a masks by thresholding with the Li method\n",
    "4. Transform the mask into a labels image\n",
    "5. Compute properties of the labels, at least the area\n",
    "6. Make a histogram of the area. What do you observe and does it make sense?"
   ]
  }
 ],
 "metadata": {
  "colab": {
   "collapsed_sections": [],
   "name": "12-Regions.ipynb",
   "provenance": [],
   "toc_visible": true
  },
  "kernelspec": {
   "display_name": "Python 3 (ipykernel)",
   "language": "python",
   "name": "python3"
  },
  "language_info": {
   "codemirror_mode": {
    "name": "ipython",
    "version": 3
   },
   "file_extension": ".py",
   "mimetype": "text/x-python",
   "name": "python",
   "nbconvert_exporter": "python",
   "pygments_lexer": "ipython3",
   "version": "3.10.12"
  },
  "toc": {
   "base_numbering": 1,
   "nav_menu": {},
   "number_sections": false,
   "sideBar": true,
   "skip_h1_title": false,
   "title_cell": "Table of Contents",
   "title_sidebar": "Contents",
   "toc_cell": false,
   "toc_position": {},
   "toc_section_display": true,
   "toc_window_display": true
  }
 },
 "nbformat": 4,
 "nbformat_minor": 4
}
