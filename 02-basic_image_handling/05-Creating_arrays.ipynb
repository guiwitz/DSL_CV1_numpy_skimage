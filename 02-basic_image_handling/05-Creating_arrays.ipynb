{
 "cells": [
  {
   "cell_type": "markdown",
   "id": "5881f105-dcbf-480b-8346-3ed1925d724d",
   "metadata": {},
   "source": [
    "# Creating arrays\n",
    "\n",
    "Until now we have seen that we can create Numpy arrays by importing images. Often it is useful to be able to create new \"artificial\" arrays with certain properties."
   ]
  },
  {
   "cell_type": "markdown",
   "id": "0bea298b-bb6e-442b-b5ae-821092a30827",
   "metadata": {},
   "source": [
    "## Turning lists into arrays\n",
    "\n",
    "If one has a list of numbers, it can easily be turned into an array using the ```array``` function:"
   ]
  },
  {
   "cell_type": "code",
   "execution_count": 1,
   "id": "c64e8cca-a32b-4d17-a44a-52dbac79bbf6",
   "metadata": {},
   "outputs": [],
   "source": [
    "import numpy as np"
   ]
  },
  {
   "cell_type": "code",
   "execution_count": 2,
   "id": "10dc19ad-3490-4791-8d39-0cebe6313d8a",
   "metadata": {},
   "outputs": [],
   "source": [
    "mylist = [6,2,6,9]"
   ]
  },
  {
   "cell_type": "code",
   "execution_count": 3,
   "id": "856a2d7a-8d6a-492a-9a01-8529ff198df2",
   "metadata": {},
   "outputs": [],
   "source": [
    "myarray = np.array(mylist)"
   ]
  },
  {
   "cell_type": "code",
   "execution_count": 4,
   "id": "ef375a96-b5bf-499a-9a50-bace5dcefdff",
   "metadata": {},
   "outputs": [
    {
     "data": {
      "text/plain": [
       "array([6, 2, 6, 9])"
      ]
     },
     "execution_count": 4,
     "metadata": {},
     "output_type": "execute_result"
    }
   ],
   "source": [
    "myarray"
   ]
  },
  {
   "cell_type": "code",
   "execution_count": 5,
   "id": "964a352a-1145-40f9-99e1-a004ed94bd56",
   "metadata": {},
   "outputs": [
    {
     "data": {
      "text/plain": [
       "dtype('int64')"
      ]
     },
     "execution_count": 5,
     "metadata": {},
     "output_type": "execute_result"
    }
   ],
   "source": [
    "myarray.dtype"
   ]
  },
  {
   "cell_type": "markdown",
   "id": "f0c44619-7cde-4317-9d5e-396ccc8979e5",
   "metadata": {},
   "source": [
    "As you can see above, the type or ```dtype``` of the array is inferred from its contents. In the example above, the list only contained integers, the Numpy picked integers 64 bits as type. We can however enforce the type if needed: "
   ]
  },
  {
   "cell_type": "code",
   "execution_count": 6,
   "id": "8068cdb0-4906-4974-872f-01842c2b97bc",
   "metadata": {},
   "outputs": [
    {
     "data": {
      "text/plain": [
       "dtype('uint8')"
      ]
     },
     "execution_count": 6,
     "metadata": {},
     "output_type": "execute_result"
    }
   ],
   "source": [
    "myarray = np.array(mylist, dtype=np.uint8)\n",
    "myarray.dtype"
   ]
  },
  {
   "cell_type": "markdown",
   "id": "ee4fc6ee-0475-4a08-8108-6224e79331fd",
   "metadata": {},
   "source": [
    "Naturally, this works for list of lists which are turned into 2D arrays:"
   ]
  },
  {
   "cell_type": "code",
   "execution_count": 7,
   "id": "43b0cc86-7169-438b-abec-2519a9d060ca",
   "metadata": {},
   "outputs": [
    {
     "data": {
      "text/plain": [
       "(2, 3)"
      ]
     },
     "execution_count": 7,
     "metadata": {},
     "output_type": "execute_result"
    }
   ],
   "source": [
    "my2d_list = [[5.4,2,8], [8,3.9,9]]\n",
    "my2d_array = np.array(my2d_list)\n",
    "\n",
    "my2d_array.shape"
   ]
  },
  {
   "cell_type": "markdown",
   "id": "e9fcce0a-ef1c-4391-9c5e-d43eb2389c9a",
   "metadata": {},
   "source": [
    "## Numpy functions creating arrays\n",
    "\n",
    "There is a long list of Numpy functions which produce arrays with different properties. For example we can create arrays filled with zeros or ones and with a given shape:"
   ]
  },
  {
   "cell_type": "code",
   "execution_count": 8,
   "id": "a99547e4-c942-4c78-b55d-b14cb2aeb5e7",
   "metadata": {},
   "outputs": [
    {
     "data": {
      "text/plain": [
       "array([[0., 0., 0.],\n",
       "       [0., 0., 0.],\n",
       "       [0., 0., 0.],\n",
       "       [0., 0., 0.],\n",
       "       [0., 0., 0.]])"
      ]
     },
     "execution_count": 8,
     "metadata": {},
     "output_type": "execute_result"
    }
   ],
   "source": [
    "np.zeros(shape=(5,3))"
   ]
  },
  {
   "cell_type": "code",
   "execution_count": 9,
   "id": "5b5a8d40-8263-4487-8f4d-3a6b288ab1c1",
   "metadata": {},
   "outputs": [
    {
     "data": {
      "text/plain": [
       "array([[1., 1., 1.],\n",
       "       [1., 1., 1.],\n",
       "       [1., 1., 1.],\n",
       "       [1., 1., 1.],\n",
       "       [1., 1., 1.]])"
      ]
     },
     "execution_count": 9,
     "metadata": {},
     "output_type": "execute_result"
    }
   ],
   "source": [
    "np.ones(shape=(5,3))"
   ]
  },
  {
   "cell_type": "markdown",
   "id": "b2296b36-5912-4a69-abbb-aa29bc276222",
   "metadata": {},
   "source": [
    "We can also create 1D arrays (only one row) with values regularly distributed. For example we can create an array with numbers from a given ```start``` value to a ```stop``` value in a certain ```step``` size:"
   ]
  },
  {
   "cell_type": "code",
   "execution_count": 10,
   "id": "ddf82518-05f0-4e3e-86df-7d631cac351f",
   "metadata": {},
   "outputs": [
    {
     "data": {
      "text/plain": [
       "array([ 4,  6,  8, 10])"
      ]
     },
     "execution_count": 10,
     "metadata": {},
     "output_type": "execute_result"
    }
   ],
   "source": [
    "np.arange(start=4, stop=12, step=2)"
   ]
  },
  {
   "cell_type": "markdown",
   "id": "098fb4bc-142f-4bff-a461-236c0fe9e2f5",
   "metadata": {},
   "source": [
    "or with a certain number of values between a start and stop value:"
   ]
  },
  {
   "cell_type": "code",
   "execution_count": 11,
   "id": "c5d61f6c-e4ff-4aa2-ab4f-966fac3e6d10",
   "metadata": {},
   "outputs": [
    {
     "data": {
      "text/plain": [
       "array([2.        , 2.11111111, 2.22222222, 2.33333333, 2.44444444,\n",
       "       2.55555556, 2.66666667, 2.77777778, 2.88888889, 3.        ])"
      ]
     },
     "execution_count": 11,
     "metadata": {},
     "output_type": "execute_result"
    }
   ],
   "source": [
    "np.linspace(start=2, stop=3, num=10)"
   ]
  },
  {
   "cell_type": "markdown",
   "id": "ba9139c1-a5c6-45e2-8d41-e009a677b039",
   "metadata": {},
   "source": [
    "In addition the ```random``` submodule of Numpy allows us to create arrays with numbers taken from a given distribution. For example we can take numbers from a Poisson distribution of parameter ```lam```. Remember that to access a submodule we use ```np.submodule.function_name```:"
   ]
  },
  {
   "cell_type": "code",
   "execution_count": 12,
   "id": "97f852e6-3480-426e-9283-8f213586b60e",
   "metadata": {},
   "outputs": [
    {
     "data": {
      "text/plain": [
       "array([[1, 5, 4, 4, 1],\n",
       "       [3, 6, 3, 0, 1],\n",
       "       [4, 1, 5, 2, 5]])"
      ]
     },
     "execution_count": 12,
     "metadata": {},
     "output_type": "execute_result"
    }
   ],
   "source": [
    "np.random.poisson(lam=3, size=(3,5))"
   ]
  },
  {
   "cell_type": "markdown",
   "id": "f90aae82-8e18-4888-aace-3b5da26f1832",
   "metadata": {},
   "source": [
    "Note that in many cases, we can enforce the type of the array. By default we get a float array: "
   ]
  },
  {
   "cell_type": "code",
   "execution_count": 13,
   "id": "eb4fdd0d-35cd-4caa-92b0-0ab2c7249e2b",
   "metadata": {},
   "outputs": [
    {
     "data": {
      "text/plain": [
       "dtype('float64')"
      ]
     },
     "execution_count": 13,
     "metadata": {},
     "output_type": "execute_result"
    }
   ],
   "source": [
    "np.zeros(shape=(5,3)).dtype"
   ]
  },
  {
   "cell_type": "markdown",
   "id": "e46b35fc-cd76-48a7-b64b-7c50a3625925",
   "metadata": {},
   "source": [
    "but we can enforce e.g. unsigned integers:"
   ]
  },
  {
   "cell_type": "code",
   "execution_count": 14,
   "id": "ca39b5a7-fc94-4ea1-aa2a-2b0112437fc5",
   "metadata": {},
   "outputs": [
    {
     "data": {
      "text/plain": [
       "dtype('uint8')"
      ]
     },
     "execution_count": 14,
     "metadata": {},
     "output_type": "execute_result"
    }
   ],
   "source": [
    "np.zeros(shape=(5,3), dtype=np.uint8).dtype"
   ]
  },
  {
   "cell_type": "markdown",
   "id": "ea4a2ad1-f0b3-4c38-b973-4f148306a540",
   "metadata": {},
   "source": [
    "All these arrays, if two dimensional, naturally behave like imported images and we can for example plot them:"
   ]
  },
  {
   "cell_type": "code",
   "execution_count": 15,
   "id": "4436a472-077e-4e7a-8e8f-8c004aa07219",
   "metadata": {},
   "outputs": [],
   "source": [
    "import matplotlib.pyplot as plt"
   ]
  },
  {
   "cell_type": "code",
   "execution_count": 16,
   "id": "54ada095-06a4-4586-80a7-c6692ffeef4b",
   "metadata": {},
   "outputs": [
    {
     "data": {
      "image/png": "[encoded data removed]",
      "text/plain": [
       "<Figure size 640x480 with 1 Axes>"
      ]
     },
     "metadata": {},
     "output_type": "display_data"
    }
   ],
   "source": [
    "plt.imshow(np.random.poisson(lam=3, size=(3,5)));"
   ]
  },
  {
   "cell_type": "markdown",
   "id": "42213d58-ff4a-44b5-a9c7-17aba80cd4c2",
   "metadata": {},
   "source": [
    "## Exercise\n",
    "\n",
    "Try to find a function that generates normally distributed numbers. Create an image of size 8x9 containing such values with $\\mu = 10$ and $\\sigma=0.5$ and plot it."
   ]
  },
  {
   "cell_type": "code",
   "execution_count": null,
   "id": "5515a3f9-b67e-4f75-b8a1-9ab8f0b76672",
   "metadata": {},
   "outputs": [],
   "source": []
  }
 ],
 "metadata": {
  "kernelspec": {
   "display_name": "Python 3 (ipykernel)",
   "language": "python",
   "name": "python3"
  },
  "language_info": {
   "codemirror_mode": {
    "name": "ipython",
    "version": 3
   },
   "file_extension": ".py",
   "mimetype": "text/x-python",
   "name": "python",
   "nbconvert_exporter": "python",
   "pygments_lexer": "ipython3",
   "version": "3.10.12"
  }
 },
 "nbformat": 4,
 "nbformat_minor": 5
}
