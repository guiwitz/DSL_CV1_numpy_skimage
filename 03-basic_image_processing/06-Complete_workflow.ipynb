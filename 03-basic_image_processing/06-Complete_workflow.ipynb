{
 "cells": [
  {
   "cell_type": "markdown",
   "id": "44d9837e-32e9-4e87-8362-8ae0143041e7",
   "metadata": {},
   "source": [
    "# Workflow\n",
    "\n",
    "In this chapter, we are going to wrap our workflow into a re-usable function, see how we can handle and export the extracted tabular data and finally export all these tables when we analyze all images.\n",
    "\n",
    "We can summarize our complete workflow as the following function which takes a three channel image as input:"
   ]
  },
  {
   "cell_type": "code",
   "execution_count": 1,
   "id": "c7f9fa6c-dedc-4eb9-b5ca-c9ac64283190",
   "metadata": {},
   "outputs": [],
   "source": [
    "import skimage\n",
    "from microfilm.microplot import microshow\n",
    "import matplotlib.pyplot as plt\n",
    "import numpy as np\n",
    "import scipy.ndimage as ndi"
   ]
  },
  {
   "cell_type": "code",
   "execution_count": 2,
   "id": "c0841491-6be0-473b-94c1-802c17d0e5ea",
   "metadata": {},
   "outputs": [],
   "source": [
    "def nuclei_in_out(image):\n",
    "    image_nuclei = image[:,:,2]\n",
    "\n",
    "    # filter image\n",
    "    image_nuclei = skimage.filters.median(image_nuclei, skimage.morphology.disk(5))\n",
    "\n",
    "    # create mask and clean-up\n",
    "    mask_nuclei = image_nuclei > skimage.filters.threshold_otsu(image_nuclei)\n",
    "    mask_nuclei = skimage.morphology.binary_closing(mask_nuclei, footprint=skimage.morphology.disk(5))\n",
    "    mask_nuclei = ndi.binary_fill_holes(mask_nuclei, skimage.morphology.disk(5))\n",
    "\n",
    "    labels_nuclei = skimage.morphology.label(mask_nuclei)\n",
    "\n",
    "    mask_nuclei_eroded = skimage.morphology.binary_erosion(mask_nuclei, skimage.morphology.disk(10))\n",
    "\n",
    "    labels_masked_inner = labels_nuclei * mask_nuclei_eroded\n",
    "    labels_masked_outer = labels_nuclei * (1-mask_nuclei_eroded)\n",
    "\n",
    "    measure_inner = skimage.measure.regionprops_table(\n",
    "        label_image=labels_masked_inner, intensity_image=image[:,:,1],\n",
    "        properties=('label', 'area', 'mean_intensity'))\n",
    "\n",
    "    measure_outer = skimage.measure.regionprops_table(\n",
    "        label_image=labels_masked_outer, intensity_image=image[:,:,1],\n",
    "        properties=('label', 'area', 'mean_intensity'))\n",
    "    \n",
    "    return measure_inner, measure_outer\n"
   ]
  },
  {
   "cell_type": "markdown",
   "id": "accb4722-5989-4833-ab22-c156e0dfcce9",
   "metadata": {},
   "source": [
    "Let's verify that it works. We define here the image path as this is what we'll have in our complete analysis:"
   ]
  },
  {
   "cell_type": "code",
   "execution_count": 3,
   "id": "87826338-a1a5-4413-90b1-1b9c75e98311",
   "metadata": {},
   "outputs": [],
   "source": [
    "from pathlib import Path\n",
    "\n",
    "image_path = Path('../data/cellatlas/19838_1252_F8_1.tiff')"
   ]
  },
  {
   "cell_type": "code",
   "execution_count": 4,
   "id": "6425938e-0388-4fc9-8be4-f4bfefd1c392",
   "metadata": {},
   "outputs": [],
   "source": [
    "image = skimage.io.imread(image_path)"
   ]
  },
  {
   "cell_type": "code",
   "execution_count": 5,
   "id": "3cbdefc9-1d32-45c6-9996-eacddccc883d",
   "metadata": {},
   "outputs": [],
   "source": [
    "m_in, m_out = nuclei_in_out(image)"
   ]
  },
  {
   "cell_type": "code",
   "execution_count": 6,
   "id": "fb93fa55-149b-4314-9af7-22815c963a67",
   "metadata": {},
   "outputs": [
    {
     "data": {
      "text/plain": [
       "{'label': array([ 1,  2,  4,  5,  6,  7,  8,  9, 10, 11, 12]),\n",
       " 'area': array([ 5629.,  9904., 15070., 20884., 12972., 16068., 27912., 26131.,\n",
       "        28071., 16176., 18853.]),\n",
       " 'mean_intensity': array([28.21406999, 44.42982633, 53.1260783 , 49.79285577, 42.91111625,\n",
       "        54.61090366, 52.34300659, 60.7661781 , 58.83042998, 54.78251731,\n",
       "        60.94144168])}"
      ]
     },
     "execution_count": 6,
     "metadata": {},
     "output_type": "execute_result"
    }
   ],
   "source": [
    "m_in"
   ]
  },
  {
   "cell_type": "code",
   "execution_count": 7,
   "id": "3ef661c8-d8e8-4870-a873-98c8db28a751",
   "metadata": {},
   "outputs": [
    {
     "data": {
      "text/plain": [
       "{'label': array([ 1,  2,  3,  4,  5,  6,  7,  8,  9, 10, 11, 12]),\n",
       " 'area': array([3675., 4484.,   52., 5746., 7425., 3176., 5261., 6906., 6183.,\n",
       "        6505., 6131., 5290.]),\n",
       " 'mean_intensity': array([19.60435374, 27.11239964, 31.88461538, 31.96293073, 31.77777778,\n",
       "        28.91215365, 38.03592473, 37.74341153, 44.66876921, 41.29392775,\n",
       "        26.7639863 , 38.31342155])}"
      ]
     },
     "execution_count": 7,
     "metadata": {},
     "output_type": "execute_result"
    }
   ],
   "source": [
    "m_out"
   ]
  },
  {
   "cell_type": "markdown",
   "id": "e742fc21-f532-461c-85f3-0acf9dbc898c",
   "metadata": {},
   "source": [
    "## Comments on the function\n",
    "\n",
    "Your are entirely free to define your functions as you like. For example, above we pass an image to the function, but we could as well pass a path and the image could be imported directly in the function. Also we return the two output dictionaries, but we could also directly save them in the function. Depending on your use case you may prefer one or the other solution."
   ]
  },
  {
   "cell_type": "markdown",
   "id": "a5ef30d5-5f42-4aab-b42e-12a045f9cafe",
   "metadata": {},
   "source": [
    "## Generality\n",
    "\n",
    "Once property you should generally aim for is *generality*. You might want to re-use this function for another project, and so you should be careful to not *hard-code* very specific features of your dataset in your code. For example you should avoid setting a fixed threshold value in your code. One solution for this is to pass such numbers as input to the function and to assign reasonable values."
   ]
  },
  {
   "cell_type": "markdown",
   "id": "1302f2c8-4976-4bb9-901a-8f1fa474dc23",
   "metadata": {},
   "source": [
    "## Handling tables: Pandas\n",
    "\n",
    "Wherever we save the output dictionaries, we have to save them as tables. The most popular way of doing this in Python is to use the Pandas package which offers such a tabular data structure called a DataFrame. \n",
    "\n",
    "The first operation is to transform the dictionary into a DataFrame. Luckily this is very simple, as the keys from our dictionary can just be used to define the columns of our table:"
   ]
  },
  {
   "cell_type": "code",
   "execution_count": 8,
   "id": "058ee39b-f5fa-4209-b2a2-1152faaadb61",
   "metadata": {},
   "outputs": [],
   "source": [
    "import pandas as pd\n",
    "\n",
    "out_df = pd.DataFrame(m_out)"
   ]
  },
  {
   "cell_type": "code",
   "execution_count": 9,
   "id": "5125a9da-3672-44b0-8414-446085fa3683",
   "metadata": {},
   "outputs": [
    {
     "data": {
      "text/html": [
       "<div>\n",
       "<style scoped>\n",
       "    .dataframe tbody tr th:only-of-type {\n",
       "        vertical-align: middle;\n",
       "    }\n",
       "\n",
       "    .dataframe tbody tr th {\n",
       "        vertical-align: top;\n",
       "    }\n",
       "\n",
       "    .dataframe thead th {\n",
       "        text-align: right;\n",
       "    }\n",
       "</style>\n",
       "<table border=\"1\" class=\"dataframe\">\n",
       "  <thead>\n",
       "    <tr style=\"text-align: right;\">\n",
       "      <th></th>\n",
       "      <th>label</th>\n",
       "      <th>area</th>\n",
       "      <th>mean_intensity</th>\n",
       "    </tr>\n",
       "  </thead>\n",
       "  <tbody>\n",
       "    <tr>\n",
       "      <th>0</th>\n",
       "      <td>1</td>\n",
       "      <td>3675.0</td>\n",
       "      <td>19.604354</td>\n",
       "    </tr>\n",
       "    <tr>\n",
       "      <th>1</th>\n",
       "      <td>2</td>\n",
       "      <td>4484.0</td>\n",
       "      <td>27.112400</td>\n",
       "    </tr>\n",
       "    <tr>\n",
       "      <th>2</th>\n",
       "      <td>3</td>\n",
       "      <td>52.0</td>\n",
       "      <td>31.884615</td>\n",
       "    </tr>\n",
       "    <tr>\n",
       "      <th>3</th>\n",
       "      <td>4</td>\n",
       "      <td>5746.0</td>\n",
       "      <td>31.962931</td>\n",
       "    </tr>\n",
       "    <tr>\n",
       "      <th>4</th>\n",
       "      <td>5</td>\n",
       "      <td>7425.0</td>\n",
       "      <td>31.777778</td>\n",
       "    </tr>\n",
       "    <tr>\n",
       "      <th>5</th>\n",
       "      <td>6</td>\n",
       "      <td>3176.0</td>\n",
       "      <td>28.912154</td>\n",
       "    </tr>\n",
       "    <tr>\n",
       "      <th>6</th>\n",
       "      <td>7</td>\n",
       "      <td>5261.0</td>\n",
       "      <td>38.035925</td>\n",
       "    </tr>\n",
       "    <tr>\n",
       "      <th>7</th>\n",
       "      <td>8</td>\n",
       "      <td>6906.0</td>\n",
       "      <td>37.743412</td>\n",
       "    </tr>\n",
       "    <tr>\n",
       "      <th>8</th>\n",
       "      <td>9</td>\n",
       "      <td>6183.0</td>\n",
       "      <td>44.668769</td>\n",
       "    </tr>\n",
       "    <tr>\n",
       "      <th>9</th>\n",
       "      <td>10</td>\n",
       "      <td>6505.0</td>\n",
       "      <td>41.293928</td>\n",
       "    </tr>\n",
       "    <tr>\n",
       "      <th>10</th>\n",
       "      <td>11</td>\n",
       "      <td>6131.0</td>\n",
       "      <td>26.763986</td>\n",
       "    </tr>\n",
       "    <tr>\n",
       "      <th>11</th>\n",
       "      <td>12</td>\n",
       "      <td>5290.0</td>\n",
       "      <td>38.313422</td>\n",
       "    </tr>\n",
       "  </tbody>\n",
       "</table>\n",
       "</div>"
      ],
      "text/plain": [
       "    label    area  mean_intensity\n",
       "0       1  3675.0       19.604354\n",
       "1       2  4484.0       27.112400\n",
       "2       3    52.0       31.884615\n",
       "3       4  5746.0       31.962931\n",
       "4       5  7425.0       31.777778\n",
       "5       6  3176.0       28.912154\n",
       "6       7  5261.0       38.035925\n",
       "7       8  6906.0       37.743412\n",
       "8       9  6183.0       44.668769\n",
       "9      10  6505.0       41.293928\n",
       "10     11  6131.0       26.763986\n",
       "11     12  5290.0       38.313422"
      ]
     },
     "execution_count": 9,
     "metadata": {},
     "output_type": "execute_result"
    }
   ],
   "source": [
    "out_df"
   ]
  },
  {
   "cell_type": "markdown",
   "id": "c412d96a-292d-4054-9769-5a7da50cb4e2",
   "metadata": {},
   "source": [
    "Now we see that this offers an actual table. Note though that it isn't an interactive table, i.e. you cannot point to lines and modify them.\n",
    "\n",
    "These tables are very useful for post-processing as they allow combined multiple dataset, compute statistics on the table, group certain rows based on criteria etc. For example with"
   ]
  },
  {
   "cell_type": "code",
   "execution_count": 10,
   "id": "224a648c-2844-4f97-8065-8bf4e6251129",
   "metadata": {},
   "outputs": [
    {
     "data": {
      "text/plain": [
       "label                6.500000\n",
       "area              5069.500000\n",
       "mean_intensity      33.172806\n",
       "dtype: float64"
      ]
     },
     "execution_count": 10,
     "metadata": {},
     "output_type": "execute_result"
    }
   ],
   "source": [
    "out_df.mean()"
   ]
  },
  {
   "cell_type": "markdown",
   "id": "afd9fd55-a28d-499b-8a37-4f125c2eb95f",
   "metadata": {},
   "source": [
    "we can compute the mean of each column in the table without having to do that manually.\n",
    "\n",
    "Pandas also offers a simple way to export such table into classical formats like csv. We only have to specify a valid path. For this we define a folder as a ```Path``` object:"
   ]
  },
  {
   "cell_type": "code",
   "execution_count": 11,
   "id": "1f11223c-53e6-4f9f-a716-ebfe2bd33488",
   "metadata": {},
   "outputs": [],
   "source": [
    "from pathlib import Path\n",
    "import os\n",
    "\n",
    "export_dir = Path('../exports/')\n",
    "if not export_dir.exists():\n",
    "    os.makedirs(export_dir, exist_ok=True)\n",
    "    "
   ]
  },
  {
   "cell_type": "markdown",
   "id": "5c4c483c-dfd7-454d-9108-6441cebe2e01",
   "metadata": {},
   "source": [
    "Now we want to keep track of which file this export corresponds to. So let's recover the name or ```stem``` of the image:"
   ]
  },
  {
   "cell_type": "code",
   "execution_count": 12,
   "id": "c2b9e66c-8763-42f8-8d10-0ac62c032360",
   "metadata": {},
   "outputs": [
    {
     "data": {
      "text/plain": [
       "'19838_1252_F8_1'"
      ]
     },
     "execution_count": 12,
     "metadata": {},
     "output_type": "execute_result"
    }
   ],
   "source": [
    "image_path.stem"
   ]
  },
  {
   "cell_type": "markdown",
   "id": "c13f25b9-3d61-4cbc-985f-23f461a48f80",
   "metadata": {},
   "source": [
    "Now we can create a full path by also adding a csv extension and a suffix ```_out``` to specify that this corresponds to the membrane (outer part) intensity."
   ]
  },
  {
   "cell_type": "code",
   "execution_count": 13,
   "id": "9eda463f-d422-40a7-8a61-4abb04901c22",
   "metadata": {},
   "outputs": [],
   "source": [
    "export_path = export_dir.joinpath(image_path.stem +'_out.csv')"
   ]
  },
  {
   "cell_type": "markdown",
   "id": "fe0c77b3-9e9e-4865-9871-f725b4a32bf2",
   "metadata": {},
   "source": [
    "Finally we can export the DataFrame or table using the ```to_csv``` method. We just us the additional options ```index=False``` to avoid storing a useless index in the csv file:"
   ]
  },
  {
   "cell_type": "code",
   "execution_count": 14,
   "id": "fc9fcd7d-ddcd-42d9-8079-084ae875b6c1",
   "metadata": {},
   "outputs": [],
   "source": [
    "out_df.to_csv(export_path, index=False)"
   ]
  },
  {
   "cell_type": "markdown",
   "id": "59ff80e6-3e43-4ef2-8f12-828f11c17782",
   "metadata": {},
   "source": [
    "As a control, let's check the contents of the export folder:"
   ]
  },
  {
   "cell_type": "code",
   "execution_count": 15,
   "id": "5cde300e-3c87-4887-919a-64e4c4964fea",
   "metadata": {},
   "outputs": [
    {
     "data": {
      "text/plain": [
       "[PosixPath('../exports/27897_273_C8_2_in.csv'),\n",
       " PosixPath('../exports/24138_196_F7_2_in.csv'),\n",
       " PosixPath('../exports/19838_1252_F8_1_in.csv'),\n",
       " PosixPath('../exports/27897_273_C8_2_out.csv'),\n",
       " PosixPath('../exports/24138_196_F7_2_out.csv'),\n",
       " PosixPath('../exports/19838_1252_F8_1_out.csv')]"
      ]
     },
     "execution_count": 15,
     "metadata": {},
     "output_type": "execute_result"
    }
   ],
   "source": [
    "list(export_dir.iterdir())"
   ]
  },
  {
   "cell_type": "markdown",
   "id": "bc76b09b-e850-46af-adac-8290708de352",
   "metadata": {},
   "source": [
    "## Execute the workflow\n",
    "\n",
    "We can finally run our full workflow. We just have to:\n",
    "- define the list of files to analyze\n",
    "- run the workflow on each file\n",
    "- export the tables for each image"
   ]
  },
  {
   "cell_type": "code",
   "execution_count": 16,
   "id": "825627d8-c714-4cbd-bd80-0308b5b46fa1",
   "metadata": {},
   "outputs": [],
   "source": [
    "folder_to_analyze = Path('../data/cellatlas/')"
   ]
  },
  {
   "cell_type": "code",
   "execution_count": 17,
   "id": "d423dd4c-ebc1-4c10-8cb9-2b11f9cab03d",
   "metadata": {},
   "outputs": [
    {
     "data": {
      "text/plain": [
       "[PosixPath('../data/cellatlas/24138_196_F7_2.tiff'),\n",
       " PosixPath('../data/cellatlas/19838_1252_F8_1.tiff'),\n",
       " PosixPath('../data/cellatlas/_description.txt'),\n",
       " PosixPath('../data/cellatlas/27897_273_C8_2.tiff'),\n",
       " PosixPath('../data/cellatlas/.ipynb_checkpoints')]"
      ]
     },
     "execution_count": 17,
     "metadata": {},
     "output_type": "execute_result"
    }
   ],
   "source": [
    "files = list(folder_to_analyze.iterdir())\n",
    "files"
   ]
  },
  {
   "cell_type": "code",
   "execution_count": 18,
   "id": "cc9615aa-aa8c-494b-97f4-c60fac8afb96",
   "metadata": {},
   "outputs": [],
   "source": [
    "export_folder = Path('../exports/')\n",
    "\n",
    "for f in files:\n",
    "    if f.suffix == '.tiff':\n",
    "        \n",
    "        image = skimage.io.imread(f)\n",
    "        m_in, m_out = nuclei_in_out(image)\n",
    "        \n",
    "        m_in_df = pd.DataFrame(m_in)\n",
    "        m_out_df = pd.DataFrame(m_out)\n",
    "        \n",
    "        export_in = export_folder.joinpath(f.stem+'_in.csv')\n",
    "        export_out = export_folder.joinpath(f.stem+'_out.csv')\n",
    "        \n",
    "        m_in_df.to_csv(export_in, index=False)\n",
    "        m_out_df.to_csv(export_out, index=False)"
   ]
  },
  {
   "cell_type": "code",
   "execution_count": null,
   "id": "43849763-1e98-4c04-a9be-3e26cec14705",
   "metadata": {},
   "outputs": [],
   "source": []
  }
 ],
 "metadata": {
  "kernelspec": {
   "display_name": "Python 3 (ipykernel)",
   "language": "python",
   "name": "python3"
  },
  "language_info": {
   "codemirror_mode": {
    "name": "ipython",
    "version": 3
   },
   "file_extension": ".py",
   "mimetype": "text/x-python",
   "name": "python",
   "nbconvert_exporter": "python",
   "pygments_lexer": "ipython3",
   "version": "3.10.12"
  }
 },
 "nbformat": 4,
 "nbformat_minor": 5
}
